{
  "nbformat": 4,
  "nbformat_minor": 0,
  "metadata": {
    "accelerator": "GPU",
    "colab": {
      "name": "GEN_8_DeOldify_Video.ipynb",
      "private_outputs": true,
      "provenance": [],
      "collapsed_sections": [],
      "include_colab_link": true
    },
    "kernelspec": {
      "display_name": "Python 3",
      "name": "python3"
    }
  },
  "cells": [
    {
      "cell_type": "markdown",
      "metadata": {
        "id": "view-in-github",
        "colab_type": "text"
      },
      "source": [
        "<a href=\"https://colab.research.google.com/github/cxbxmxcx/GenReality/blob/master/GEN_8_DeOldify_Video.ipynb\" target=\"_parent\"><img src=\"https://colab.research.google.com/assets/colab-badge.svg\" alt=\"Open In Colab\"/></a>"
      ]
    },
    {
      "cell_type": "code",
      "metadata": {
        "id": "S5Zx_zJ3Jruc"
      },
      "source": [
        "!git clone https://github.com/jantic/DeOldify.git DeOldify"
      ],
      "execution_count": null,
      "outputs": []
    },
    {
      "cell_type": "code",
      "metadata": {
        "id": "EZtSGovhJuPt"
      },
      "source": [
        "cd DeOldify"
      ],
      "execution_count": null,
      "outputs": []
    },
    {
      "cell_type": "code",
      "metadata": {
        "id": "YGNMmhSTJxWc"
      },
      "source": [
        "#NOTE:  This must be the first call in order to work properly!\r\n",
        "from deoldify import device\r\n",
        "from deoldify.device_id import DeviceId\r\n",
        "#choices:  CPU, GPU0...GPU7\r\n",
        "device.set(device=DeviceId.GPU0)\r\n",
        "\r\n",
        "import torch\r\n",
        "\r\n",
        "if not torch.cuda.is_available():\r\n",
        "    print('GPU not available.')"
      ],
      "execution_count": null,
      "outputs": []
    },
    {
      "cell_type": "code",
      "metadata": {
        "id": "-WN-O_sEJ0Ex"
      },
      "source": [
        "!pip install -r colab_requirements.txt"
      ],
      "execution_count": null,
      "outputs": []
    },
    {
      "cell_type": "code",
      "metadata": {
        "id": "rVBTY_4wwfbq"
      },
      "source": [
        "#@title DEFINE DATASETS\n",
        "import os\n",
        "import time\n",
        "import datetime\n",
        "\n",
        "dataset_name = \"video-bw\" #@param [\"video-bw\"]\n",
        "\n",
        "datasets = { \"video-bw\" : \n",
        "            { \"url\" : 'https://www.dropbox.com/s/3u7f2kh48gwje80/video-bw.zip?dl=1',\n",
        "                          }           \n",
        "            }\n",
        "\n",
        "vid_root_folder = '/content/video'\n",
        "os.makedirs(vid_root_folder, exist_ok=True)\n",
        "video_folder = vid_root_folder + \"/%s\" % dataset_name \n",
        "color_video_folder = vid_root_folder + \"/colorized-%s\" % dataset_name\n",
        "print(f\"Video data folders constructed {video_folder}\")\n",
        "os.makedirs(video_folder, exist_ok=True)\n"
      ],
      "execution_count": null,
      "outputs": []
    },
    {
      "cell_type": "code",
      "metadata": {
        "id": "Jzze0ldCx1O_"
      },
      "source": [
        "#@title DOWNLOAD VIDEO\n",
        "if len(os.listdir(video_folder)) == 0:\n",
        "    from io import BytesIO\n",
        "    from urllib.request import urlopen\n",
        "    from zipfile import ZipFile\n",
        "    zipurl = datasets[dataset_name]['url']\n",
        "    with urlopen(zipurl) as zipresp:\n",
        "        with ZipFile(BytesIO(zipresp.read())) as zfile:        \n",
        "            zfile.extractall(vid_root_folder)\n",
        "            print(f\"Downloaded & Extracted {zipurl}\")"
      ],
      "execution_count": null,
      "outputs": []
    },
    {
      "cell_type": "code",
      "metadata": {
        "id": "6nQxdXR-KRTG"
      },
      "source": [
        "import fastai\r\n",
        "from deoldify.visualize import *\r\n",
        "from pathlib import Path\r\n",
        "torch.backends.cudnn.benchmark=True\r\n",
        "import warnings\r\n",
        "warnings.filterwarnings(\"ignore\", category=UserWarning, message=\".*?Your .*? set is empty.*?\")"
      ],
      "execution_count": null,
      "outputs": []
    },
    {
      "cell_type": "code",
      "metadata": {
        "id": "AG6y78SzKYOp"
      },
      "source": [
        "!mkdir 'models'\r\n",
        "!wget https://data.deepai.org/deoldify/ColorizeVideo_gen.pth -O ./models/ColorizeVideo_gen.pth"
      ],
      "execution_count": null,
      "outputs": []
    },
    {
      "cell_type": "code",
      "metadata": {
        "id": "7cY6aODHKg51"
      },
      "source": [
        "!wget https://media.githubusercontent.com/media/jantic/DeOldify/master/resource_images/watermark.png -O ./resource_images/watermark.png"
      ],
      "execution_count": null,
      "outputs": []
    },
    {
      "cell_type": "code",
      "metadata": {
        "id": "WBRdIbZEKlpo"
      },
      "source": [
        "colorizer = get_video_colorizer()"
      ],
      "execution_count": null,
      "outputs": []
    },
    {
      "cell_type": "code",
      "metadata": {
        "id": "yMd4wynFQIKr"
      },
      "source": [
        "#@title IMAGE SELECTION  { run: \"auto\" }\r\n",
        "import glob\r\n",
        "import ipywidgets as widgets\r\n",
        "from IPython.display import display\r\n",
        "from IPython.display import clear_output\r\n",
        "\r\n",
        "files = sorted(glob.glob(\"%s/*.mp4\" % video_folder))\r\n",
        "file_idx = 3 #@param {type:\"slider\", min:0, max:12, step:1}\r\n",
        "\r\n",
        "show_video_in_notebook(files[file_idx])\r\n",
        "video = colorizer.colorize_from_file_name(files[file_idx])  \r\n",
        "show_video_in_notebook(video) "
      ],
      "execution_count": null,
      "outputs": []
    }
  ]
}